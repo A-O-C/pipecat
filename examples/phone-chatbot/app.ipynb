{
 "cells": [
  {
   "cell_type": "code",
   "execution_count": 1,
   "id": "f1f86dbb",
   "metadata": {},
   "outputs": [
    {
     "ename": "ModuleNotFoundError",
     "evalue": "No module named 'twilio'",
     "output_type": "error",
     "traceback": [
      "\u001b[1;31m------------------------------------------------------------------------\u001b[0m",
      "\u001b[1;31mModuleNotFoundError\u001b[0m                    Traceback (most recent call last)",
      "Cell \u001b[1;32mIn[1], line 4\u001b[0m\n\u001b[0;32m      1\u001b[0m \u001b[38;5;66;03m#Importing the required moules\u001b[39;00m\n\u001b[0;32m      3\u001b[0m \u001b[38;5;28;01mfrom\u001b[39;00m \u001b[38;5;21;01mflask\u001b[39;00m \u001b[38;5;28;01mimport\u001b[39;00m Flask, request, Response\n\u001b[1;32m----> 4\u001b[0m \u001b[38;5;28;01mfrom\u001b[39;00m \u001b[38;5;21;01mtwilio\u001b[39;00m\u001b[38;5;21;01m.\u001b[39;00m\u001b[38;5;21;01mtwiml\u001b[39;00m\u001b[38;5;21;01m.\u001b[39;00m\u001b[38;5;21;01mvoice_response\u001b[39;00m \u001b[38;5;28;01mimport\u001b[39;00m VoiceResponse\n\u001b[0;32m      5\u001b[0m \u001b[38;5;28;01mimport\u001b[39;00m \u001b[38;5;21;01mtime\u001b[39;00m\n\u001b[0;32m      6\u001b[0m \u001b[38;5;28;01mimport\u001b[39;00m \u001b[38;5;21;01mlogging\u001b[39;00m\n",
      "\u001b[1;31mModuleNotFoundError\u001b[0m: No module named 'twilio'"
     ]
    }
   ],
   "source": [
    "#Importing the required moules\n",
    "\n",
    "from flask import Flask, request, Response\n",
    "from twilio.twiml.voice_response import VoiceResponse\n",
    "import time\n",
    "import logging"
   ]
  },
  {
   "cell_type": "code",
   "execution_count": null,
   "id": "38edf422",
   "metadata": {},
   "outputs": [],
   "source": [
    "#An instance of the flask web application\n",
    "\n",
    "app= Flask(__name__)"
   ]
  },
  {
   "cell_type": "code",
   "execution_count": null,
   "id": "166a52d2",
   "metadata": {},
   "outputs": [],
   "source": [
    "#To output information during execution\n",
    "logging.basicConfig(level=logging.INFO)"
   ]
  },
  {
   "cell_type": "code",
   "execution_count": null,
   "id": "d4b0b6ac",
   "metadata": {},
   "outputs": [],
   "source": [
    "#Tracking the state of the call\n",
    "\n",
    "call_start_time = None\n",
    "silence_events = 0\n",
    "unanswered_prompts = 0\n",
    "MAX_UNANSWERED = 3"
   ]
  },
  {
   "cell_type": "code",
   "execution_count": 12,
   "id": "afcefe1f",
   "metadata": {},
   "outputs": [
    {
     "name": "stdout",
     "output_type": "stream",
     "text": [
      " * Serving Flask app \"__main__\" (lazy loading)\n",
      " * Environment: production\n",
      "\u001b[31m   WARNING: This is a development server. Do not use it in a production deployment.\u001b[0m\n",
      "\u001b[2m   Use a production WSGI server instead.\u001b[0m\n",
      " * Debug mode: off\n"
     ]
    },
    {
     "name": "stderr",
     "output_type": "stream",
     "text": [
      "INFO:werkzeug: * Running on http://127.0.0.1:5000/ (Press CTRL+C to quit)\n"
     ]
    }
   ],
   "source": [
    "#Route for handling incoming calls via POST request\n",
    "\n",
    "@app.route(\"/voice\", methods=[\"POST\"])\n",
    "def handle_call():\n",
    "    global call_start_time, silence_events, unanswered_prompts\n",
    "\n",
    "    if call_start_time is None:\n",
    "        call_start_time = time.time()\n",
    "\n",
    "    resp = VoiceResponse() #creating twilio voice response\n",
    "    #To check for max unanswered prompts\n",
    "    if unanswered_prompts >= MAX_UNANSWERED:\n",
    "        resp.say(\"No response received. Ending the call. Goodbye.\", voice='alice')\n",
    "        log_summary()\n",
    "        return Response(str(resp), mimetype='application/xml')\n",
    "\n",
    "    # Simulating prompt and silence detection\n",
    "    resp.say(\"Please say something after the beep.\", voice='alice')\n",
    "    resp.pause(length=10)\n",
    "    resp.say(\"I didn't catch that.\", voice='alice')\n",
    "\n",
    "    # Count silence and unanswered attempts\n",
    "    silence_events += 1\n",
    "    unanswered_prompts += 1\n",
    "\n",
    "    # Redirect to self for next prompt\n",
    "    resp.redirect(\"/voice\")\n",
    "    return Response(str(resp), mimetype='application/xml')"
   ]
  },
  {
   "cell_type": "code",
   "execution_count": null,
   "id": "d28fb164",
   "metadata": {},
   "outputs": [],
   "source": [
    "#Logging call summary\n",
    "\n",
    "def log_summary():\n",
    "    duration = time.time() - call_start_time\n",
    "    logging.info(\"=== CALL SUMMARY ===\")\n",
    "    logging.info(f\"Call duration: {duration:.2f} seconds\")\n",
    "    logging.info(f\"Silence events: {silence_events}\")\n",
    "    logging.info(f\"Unanswered prompts: {unanswered_prompts}\")\n",
    "    logging.info(\"====================\")"
   ]
  },
  {
   "cell_type": "code",
   "execution_count": null,
   "id": "bd399c9a",
   "metadata": {},
   "outputs": [],
   "source": [
    "#Starting the flask app\n",
    "\n",
    "if __name__ == \"__main__\":\n",
    "    app.run(port=5000)"
   ]
  }
 ],
 "metadata": {
  "kernelspec": {
   "display_name": "Python 3 (ipykernel)",
   "language": "python",
   "name": "python3"
  },
  "language_info": {
   "codemirror_mode": {
    "name": "ipython",
    "version": 3
   },
   "file_extension": ".py",
   "mimetype": "text/x-python",
   "name": "python",
   "nbconvert_exporter": "python",
   "pygments_lexer": "ipython3",
   "version": "3.8.16"
  }
 },
 "nbformat": 4,
 "nbformat_minor": 5
}
